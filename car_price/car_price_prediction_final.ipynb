{
 "cells": [
  {
   "cell_type": "code",
   "execution_count": 11,
   "id": "a33124ec-8313-43ad-abca-5b5b25bcd191",
   "metadata": {
    "ExecuteTime": {
     "end_time": "2025-02-23T01:56:03.227061Z",
     "start_time": "2025-02-23T01:56:03.211920Z"
    }
   },
   "outputs": [],
   "source": [
    "# Import necessary libraries\n",
    "import pandas as pd\n",
    "import numpy as np\n",
    "from sklearn.ensemble import RandomForestRegressor\n",
    "from sklearn.metrics import mean_absolute_error, mean_squared_error, r2_score\n",
    "from sklearn.model_selection import train_test_split\n",
    "from sklearn.preprocessing import LabelEncoder\n",
    "import joblib"
   ]
  },
  {
   "cell_type": "code",
   "execution_count": 12,
   "id": "16653876-27ee-4ddf-81ac-f887e7ccd24a",
   "metadata": {
    "ExecuteTime": {
     "end_time": "2025-02-23T01:56:03.293372Z",
     "start_time": "2025-02-23T01:56:03.263145Z"
    }
   },
   "outputs": [],
   "source": [
    "# Load the datasets\n",
    "train_df = pd.read_csv(\"C:/car_price/dataset/train.csv\")\n",
    "test_df = pd.read_csv(\"C:/car_price/dataset/test.csv\")\n"
   ]
  },
  {
   "cell_type": "code",
   "execution_count": 13,
   "id": "da1de26c-895b-4e07-bf64-d43a976b2f9a",
   "metadata": {
    "ExecuteTime": {
     "end_time": "2025-02-23T01:56:03.488576Z",
     "start_time": "2025-02-23T01:56:03.446859Z"
    }
   },
   "outputs": [
    {
     "name": "stdout",
     "output_type": "stream",
     "text": [
      "Train Dataset Preview:\n",
      "           model  year motor_type        running wheel    color   type  \\\n",
      "0         toyota  2022     petrol       3000  km  left  skyblue  sedan   \n",
      "1  mercedes-benz  2014     petrol     132000  km  left    black  sedan   \n",
      "2            kia  2018     petrol   95000  miles  left    other  sedan   \n",
      "3  mercedes-benz  2002     petrol  137000  miles  left   golden  sedan   \n",
      "4  mercedes-benz  2017     petrol     130000  km  left    black  sedan   \n",
      "\n",
      "      status  motor_volume  price  \n",
      "0  excellent           2.0  24500  \n",
      "1  excellent           2.0  25500  \n",
      "2  excellent           2.0  11700  \n",
      "3  excellent           3.2  12000  \n",
      "4       good           2.0  26000  \n",
      "\n",
      "Test Dataset Preview:\n",
      "   Id          model  year motor_type       running wheel   color       type  \\\n",
      "0   0            kia  2020     petrol     24000  km  left   black      sedan   \n",
      "1   1         nissan  2017     petrol  85000  miles  left   white        suv   \n",
      "2   2        hyundai  2021     petrol  30000  miles  left   white      sedan   \n",
      "3   3            kia  2018     petrol  53000  miles  left  silver      sedan   \n",
      "4   4  mercedes-benz  2003     petrol    230000  km  left   black  Universal   \n",
      "\n",
      "      status  motor_volume  \n",
      "0  excellent           2.0  \n",
      "1  excellent           2.0  \n",
      "2  excellent           2.0  \n",
      "3  excellent           2.0  \n",
      "4     normal           1.8  \n"
     ]
    }
   ],
   "source": [
    "# Preview both datasets\n",
    "print(\"Train Dataset Preview:\")\n",
    "print(train_df.head())\n",
    "\n",
    "print(\"\\nTest Dataset Preview:\")\n",
    "print(test_df.head())"
   ]
  },
  {
   "cell_type": "code",
   "execution_count": 14,
   "id": "0ca2c825-afe3-46aa-8cc8-edf4d46d1c79",
   "metadata": {
    "ExecuteTime": {
     "end_time": "2025-02-23T01:56:03.644958Z",
     "start_time": "2025-02-23T01:56:03.608931Z"
    }
   },
   "outputs": [
    {
     "name": "stdout",
     "output_type": "stream",
     "text": [
      "Train Dataset - Processed 'running' Column:\n",
      "     running\n",
      "0    3000.00\n",
      "1  132000.00\n",
      "2  152887.30\n",
      "3  220479.58\n",
      "4  130000.00\n",
      "\n",
      "Test Dataset - Processed 'running' Column:\n",
      "     running\n",
      "0   24000.00\n",
      "1  136793.90\n",
      "2   48280.20\n",
      "3   85295.02\n",
      "4  230000.00\n"
     ]
    }
   ],
   "source": [
    "# Preprocess the 'running' column: Convert miles to km\n",
    "\n",
    "def distance_to_km(distance_str):\n",
    "    cleaned_str = distance_str.lower().replace(\",\", \"\").strip()\n",
    "\n",
    "    if \"miles\" in cleaned_str:\n",
    "        distance_km = float(cleaned_str.replace(\"miles\", \"\").strip()) * 1.60934  # Convert miles to km\n",
    "    elif \"km\" in cleaned_str:\n",
    "        distance_km = float(cleaned_str.replace(\"km\", \"\").strip())\n",
    "    else:\n",
    "        distance_km = np.nan\n",
    "\n",
    "    return distance_km\n",
    "\n",
    "\n",
    "train_df[\"running\"] = train_df[\"running\"].apply(distance_to_km)\n",
    "test_df[\"running\"] = test_df[\"running\"].apply(distance_to_km)\n",
    "\n",
    "# Display output\n",
    "print(\"Train Dataset - Processed 'running' Column:\")\n",
    "print(train_df[['running']].head())  # Display only the 'running' column\n",
    "\n",
    "print(\"\\nTest Dataset - Processed 'running' Column:\")\n",
    "print(test_df[['running']].head())  # Display only the 'running' column\n"
   ]
  },
  {
   "cell_type": "code",
   "execution_count": 15,
   "id": "15e9d2a2-4f2f-4902-8d92-28e40e5cf10b",
   "metadata": {
    "ExecuteTime": {
     "end_time": "2025-02-23T01:56:03.791077Z",
     "start_time": "2025-02-23T01:56:03.755289Z"
    }
   },
   "outputs": [
    {
     "name": "stdout",
     "output_type": "stream",
     "text": [
      "Updated Test Dataset (After Dropping 'Id' Column):\n",
      "           model  year motor_type    running wheel   color       type  \\\n",
      "0            kia  2020     petrol   24000.00  left   black      sedan   \n",
      "1         nissan  2017     petrol  136793.90  left   white        suv   \n",
      "2        hyundai  2021     petrol   48280.20  left   white      sedan   \n",
      "3            kia  2018     petrol   85295.02  left  silver      sedan   \n",
      "4  mercedes-benz  2003     petrol  230000.00  left   black  Universal   \n",
      "\n",
      "      status  motor_volume  \n",
      "0  excellent           2.0  \n",
      "1  excellent           2.0  \n",
      "2  excellent           2.0  \n",
      "3  excellent           2.0  \n",
      "4     normal           1.8  \n"
     ]
    }
   ],
   "source": [
    "# Drop the 'Id' column in the test dataset since it's not needed for prediction\n",
    "test_df = test_df.drop(columns=['Id'])\n",
    "\n",
    "# Display output\n",
    "print(\"Updated Test Dataset (After Dropping 'Id' Column):\")\n",
    "print(test_df.head())  # Display first 5 rows of test dataset"
   ]
  },
  {
   "cell_type": "code",
   "execution_count": 16,
   "id": "48bb682f-3802-4360-9f10-0b49f000b59a",
   "metadata": {
    "ExecuteTime": {
     "end_time": "2025-02-23T01:56:04.002758Z",
     "start_time": "2025-02-23T01:56:03.955857Z"
    }
   },
   "outputs": [],
   "source": [
    "# Handle categorical variables by encoding them using LabelEncoder\n",
    "categorical_columns = ['model', 'motor_type', 'wheel', 'color', 'type', 'status']\n",
    "\n",
    "label_encoders = {}\n",
    "for col in categorical_columns:\n",
    "    le = LabelEncoder()\n",
    "    # Fit on both train and test data combined\n",
    "    le.fit(pd.concat([train_df[col], test_df[col]], axis=0))\n",
    "    train_df[col] = le.transform(train_df[col])\n",
    "    test_df[col] = le.transform(test_df[col])\n",
    "    label_encoders[col] = le"
   ]
  },
  {
   "cell_type": "code",
   "execution_count": 17,
   "id": "b6b4e2b2-aac7-40fd-b3d4-0dbb65cddfbf",
   "metadata": {
    "ExecuteTime": {
     "end_time": "2025-02-23T01:56:04.156840Z",
     "start_time": "2025-02-23T01:56:04.121534Z"
    }
   },
   "outputs": [
    {
     "name": "stdout",
     "output_type": "stream",
     "text": [
      "Train Dataset - Encoded Categorical Columns:\n",
      "   model  year  motor_type    running  wheel  color  type  status  \\\n",
      "0      4  2022           3    3000.00      0     15     5       1   \n",
      "1      2  2014           3  132000.00      0      1     5       1   \n",
      "2      1  2018           3  152887.30      0     10     5       1   \n",
      "3      2  2002           3  220479.58      0      6     5       1   \n",
      "4      2  2017           3  130000.00      0      1     5       2   \n",
      "\n",
      "   motor_volume  price  \n",
      "0           2.0  24500  \n",
      "1           2.0  25500  \n",
      "2           2.0  11700  \n",
      "3           3.2  12000  \n",
      "4           2.0  26000  \n",
      "\n",
      "Test Dataset - Encoded Categorical Columns:\n",
      "   model  year  motor_type    running  wheel  color  type  status  \\\n",
      "0      1  2020           3   24000.00      0      1     5       1   \n",
      "1      3  2017           3  136793.90      0     16     6       1   \n",
      "2      0  2021           3   48280.20      0     16     5       1   \n",
      "3      1  2018           3   85295.02      0     14     5       1   \n",
      "4      2  2003           3  230000.00      0      1     1       4   \n",
      "\n",
      "   motor_volume  \n",
      "0           2.0  \n",
      "1           2.0  \n",
      "2           2.0  \n",
      "3           2.0  \n",
      "4           1.8  \n"
     ]
    }
   ],
   "source": [
    "# Display encoded output\n",
    "print(\"Train Dataset - Encoded Categorical Columns:\")\n",
    "print(train_df.head())  # Show first 5 rows of categorical columns\n",
    "\n",
    "print(\"\\nTest Dataset - Encoded Categorical Columns:\")\n",
    "print(test_df.head())  # Show first 5 rows of categorical columns"
   ]
  },
  {
   "cell_type": "code",
   "execution_count": 18,
   "id": "dab8bc4165cdfea3",
   "metadata": {
    "ExecuteTime": {
     "end_time": "2025-02-23T01:56:04.364860Z",
     "start_time": "2025-02-23T01:56:04.304145Z"
    }
   },
   "outputs": [
    {
     "data": {
      "text/html": [
       "<div>\n",
       "<style scoped>\n",
       "    .dataframe tbody tr th:only-of-type {\n",
       "        vertical-align: middle;\n",
       "    }\n",
       "\n",
       "    .dataframe tbody tr th {\n",
       "        vertical-align: top;\n",
       "    }\n",
       "\n",
       "    .dataframe thead th {\n",
       "        text-align: right;\n",
       "    }\n",
       "</style>\n",
       "<table border=\"1\" class=\"dataframe\">\n",
       "  <thead>\n",
       "    <tr style=\"text-align: right;\">\n",
       "      <th></th>\n",
       "      <th>price</th>\n",
       "      <th>price_adjusted</th>\n",
       "    </tr>\n",
       "  </thead>\n",
       "  <tbody>\n",
       "    <tr>\n",
       "      <th>count</th>\n",
       "      <td>1642.000000</td>\n",
       "      <td>1642.000000</td>\n",
       "    </tr>\n",
       "    <tr>\n",
       "      <th>mean</th>\n",
       "      <td>15982.633374</td>\n",
       "      <td>15635.915956</td>\n",
       "    </tr>\n",
       "    <tr>\n",
       "      <th>std</th>\n",
       "      <td>7176.084647</td>\n",
       "      <td>6059.701114</td>\n",
       "    </tr>\n",
       "    <tr>\n",
       "      <th>min</th>\n",
       "      <td>462.000000</td>\n",
       "      <td>2250.000000</td>\n",
       "    </tr>\n",
       "    <tr>\n",
       "      <th>25%</th>\n",
       "      <td>12000.000000</td>\n",
       "      <td>12000.000000</td>\n",
       "    </tr>\n",
       "    <tr>\n",
       "      <th>50%</th>\n",
       "      <td>15750.000000</td>\n",
       "      <td>15750.000000</td>\n",
       "    </tr>\n",
       "    <tr>\n",
       "      <th>75%</th>\n",
       "      <td>18500.000000</td>\n",
       "      <td>18500.000000</td>\n",
       "    </tr>\n",
       "    <tr>\n",
       "      <th>max</th>\n",
       "      <td>87000.000000</td>\n",
       "      <td>28250.000000</td>\n",
       "    </tr>\n",
       "  </tbody>\n",
       "</table>\n",
       "</div>"
      ],
      "text/plain": [
       "              price  price_adjusted\n",
       "count   1642.000000     1642.000000\n",
       "mean   15982.633374    15635.915956\n",
       "std     7176.084647     6059.701114\n",
       "min      462.000000     2250.000000\n",
       "25%    12000.000000    12000.000000\n",
       "50%    15750.000000    15750.000000\n",
       "75%    18500.000000    18500.000000\n",
       "max    87000.000000    28250.000000"
      ]
     },
     "execution_count": 18,
     "metadata": {},
     "output_type": "execute_result"
    }
   ],
   "source": [
    "# Compute Interquartile Range (IQR)\n",
    "q1, q3 = np.percentile(train_df[\"price\"], [25, 75])\n",
    "iqr_range = q3 - q1\n",
    "\n",
    "# Define bounds for outlier detection\n",
    "lower_limit = q1 - 1.5 * iqr_range\n",
    "upper_limit = q3 + 1.5 * iqr_range\n",
    "\n",
    "# Cap outliers at the upper bound\n",
    "train_df[\"price_adjusted\"] = train_df[\"price\"].clip(lower=lower_limit, upper=upper_limit)\n",
    "\n",
    "# Display statistics\n",
    "train_df[[\"price\", \"price_adjusted\"]].describe()\n"
   ]
  },
  {
   "cell_type": "code",
   "execution_count": 19,
   "id": "881408c6-3e74-4a63-85f5-3649233cccc3",
   "metadata": {
    "ExecuteTime": {
     "end_time": "2025-02-23T01:56:04.618333Z",
     "start_time": "2025-02-23T01:56:04.599198Z"
    }
   },
   "outputs": [],
   "source": [
    "features = train_df.drop(columns=['price', 'price_adjusted'])\n",
    "target = train_df['price_adjusted']\n",
    "\n",
    "X_train, X_test, y_train, y_test = train_test_split(features, target, test_size=0.2, random_state=42)"
   ]
  },
  {
   "cell_type": "code",
   "execution_count": 20,
   "id": "901da98b-ebbc-4883-9092-8c22cacf76ab",
   "metadata": {
    "ExecuteTime": {
     "end_time": "2025-02-23T01:56:06.572714Z",
     "start_time": "2025-02-23T01:56:04.750641Z"
    }
   },
   "outputs": [
    {
     "data": {
      "text/html": [
       "<style>#sk-container-id-1 {\n",
       "  /* Definition of color scheme common for light and dark mode */\n",
       "  --sklearn-color-text: black;\n",
       "  --sklearn-color-line: gray;\n",
       "  /* Definition of color scheme for unfitted estimators */\n",
       "  --sklearn-color-unfitted-level-0: #fff5e6;\n",
       "  --sklearn-color-unfitted-level-1: #f6e4d2;\n",
       "  --sklearn-color-unfitted-level-2: #ffe0b3;\n",
       "  --sklearn-color-unfitted-level-3: chocolate;\n",
       "  /* Definition of color scheme for fitted estimators */\n",
       "  --sklearn-color-fitted-level-0: #f0f8ff;\n",
       "  --sklearn-color-fitted-level-1: #d4ebff;\n",
       "  --sklearn-color-fitted-level-2: #b3dbfd;\n",
       "  --sklearn-color-fitted-level-3: cornflowerblue;\n",
       "\n",
       "  /* Specific color for light theme */\n",
       "  --sklearn-color-text-on-default-background: var(--sg-text-color, var(--theme-code-foreground, var(--jp-content-font-color1, black)));\n",
       "  --sklearn-color-background: var(--sg-background-color, var(--theme-background, var(--jp-layout-color0, white)));\n",
       "  --sklearn-color-border-box: var(--sg-text-color, var(--theme-code-foreground, var(--jp-content-font-color1, black)));\n",
       "  --sklearn-color-icon: #696969;\n",
       "\n",
       "  @media (prefers-color-scheme: dark) {\n",
       "    /* Redefinition of color scheme for dark theme */\n",
       "    --sklearn-color-text-on-default-background: var(--sg-text-color, var(--theme-code-foreground, var(--jp-content-font-color1, white)));\n",
       "    --sklearn-color-background: var(--sg-background-color, var(--theme-background, var(--jp-layout-color0, #111)));\n",
       "    --sklearn-color-border-box: var(--sg-text-color, var(--theme-code-foreground, var(--jp-content-font-color1, white)));\n",
       "    --sklearn-color-icon: #878787;\n",
       "  }\n",
       "}\n",
       "\n",
       "#sk-container-id-1 {\n",
       "  color: var(--sklearn-color-text);\n",
       "}\n",
       "\n",
       "#sk-container-id-1 pre {\n",
       "  padding: 0;\n",
       "}\n",
       "\n",
       "#sk-container-id-1 input.sk-hidden--visually {\n",
       "  border: 0;\n",
       "  clip: rect(1px 1px 1px 1px);\n",
       "  clip: rect(1px, 1px, 1px, 1px);\n",
       "  height: 1px;\n",
       "  margin: -1px;\n",
       "  overflow: hidden;\n",
       "  padding: 0;\n",
       "  position: absolute;\n",
       "  width: 1px;\n",
       "}\n",
       "\n",
       "#sk-container-id-1 div.sk-dashed-wrapped {\n",
       "  border: 1px dashed var(--sklearn-color-line);\n",
       "  margin: 0 0.4em 0.5em 0.4em;\n",
       "  box-sizing: border-box;\n",
       "  padding-bottom: 0.4em;\n",
       "  background-color: var(--sklearn-color-background);\n",
       "}\n",
       "\n",
       "#sk-container-id-1 div.sk-container {\n",
       "  /* jupyter's `normalize.less` sets `[hidden] { display: none; }`\n",
       "     but bootstrap.min.css set `[hidden] { display: none !important; }`\n",
       "     so we also need the `!important` here to be able to override the\n",
       "     default hidden behavior on the sphinx rendered scikit-learn.org.\n",
       "     See: https://github.com/scikit-learn/scikit-learn/issues/21755 */\n",
       "  display: inline-block !important;\n",
       "  position: relative;\n",
       "}\n",
       "\n",
       "#sk-container-id-1 div.sk-text-repr-fallback {\n",
       "  display: none;\n",
       "}\n",
       "\n",
       "div.sk-parallel-item,\n",
       "div.sk-serial,\n",
       "div.sk-item {\n",
       "  /* draw centered vertical line to link estimators */\n",
       "  background-image: linear-gradient(var(--sklearn-color-text-on-default-background), var(--sklearn-color-text-on-default-background));\n",
       "  background-size: 2px 100%;\n",
       "  background-repeat: no-repeat;\n",
       "  background-position: center center;\n",
       "}\n",
       "\n",
       "/* Parallel-specific style estimator block */\n",
       "\n",
       "#sk-container-id-1 div.sk-parallel-item::after {\n",
       "  content: \"\";\n",
       "  width: 100%;\n",
       "  border-bottom: 2px solid var(--sklearn-color-text-on-default-background);\n",
       "  flex-grow: 1;\n",
       "}\n",
       "\n",
       "#sk-container-id-1 div.sk-parallel {\n",
       "  display: flex;\n",
       "  align-items: stretch;\n",
       "  justify-content: center;\n",
       "  background-color: var(--sklearn-color-background);\n",
       "  position: relative;\n",
       "}\n",
       "\n",
       "#sk-container-id-1 div.sk-parallel-item {\n",
       "  display: flex;\n",
       "  flex-direction: column;\n",
       "}\n",
       "\n",
       "#sk-container-id-1 div.sk-parallel-item:first-child::after {\n",
       "  align-self: flex-end;\n",
       "  width: 50%;\n",
       "}\n",
       "\n",
       "#sk-container-id-1 div.sk-parallel-item:last-child::after {\n",
       "  align-self: flex-start;\n",
       "  width: 50%;\n",
       "}\n",
       "\n",
       "#sk-container-id-1 div.sk-parallel-item:only-child::after {\n",
       "  width: 0;\n",
       "}\n",
       "\n",
       "/* Serial-specific style estimator block */\n",
       "\n",
       "#sk-container-id-1 div.sk-serial {\n",
       "  display: flex;\n",
       "  flex-direction: column;\n",
       "  align-items: center;\n",
       "  background-color: var(--sklearn-color-background);\n",
       "  padding-right: 1em;\n",
       "  padding-left: 1em;\n",
       "}\n",
       "\n",
       "\n",
       "/* Toggleable style: style used for estimator/Pipeline/ColumnTransformer box that is\n",
       "clickable and can be expanded/collapsed.\n",
       "- Pipeline and ColumnTransformer use this feature and define the default style\n",
       "- Estimators will overwrite some part of the style using the `sk-estimator` class\n",
       "*/\n",
       "\n",
       "/* Pipeline and ColumnTransformer style (default) */\n",
       "\n",
       "#sk-container-id-1 div.sk-toggleable {\n",
       "  /* Default theme specific background. It is overwritten whether we have a\n",
       "  specific estimator or a Pipeline/ColumnTransformer */\n",
       "  background-color: var(--sklearn-color-background);\n",
       "}\n",
       "\n",
       "/* Toggleable label */\n",
       "#sk-container-id-1 label.sk-toggleable__label {\n",
       "  cursor: pointer;\n",
       "  display: block;\n",
       "  width: 100%;\n",
       "  margin-bottom: 0;\n",
       "  padding: 0.5em;\n",
       "  box-sizing: border-box;\n",
       "  text-align: center;\n",
       "}\n",
       "\n",
       "#sk-container-id-1 label.sk-toggleable__label-arrow:before {\n",
       "  /* Arrow on the left of the label */\n",
       "  content: \"▸\";\n",
       "  float: left;\n",
       "  margin-right: 0.25em;\n",
       "  color: var(--sklearn-color-icon);\n",
       "}\n",
       "\n",
       "#sk-container-id-1 label.sk-toggleable__label-arrow:hover:before {\n",
       "  color: var(--sklearn-color-text);\n",
       "}\n",
       "\n",
       "/* Toggleable content - dropdown */\n",
       "\n",
       "#sk-container-id-1 div.sk-toggleable__content {\n",
       "  max-height: 0;\n",
       "  max-width: 0;\n",
       "  overflow: hidden;\n",
       "  text-align: left;\n",
       "  /* unfitted */\n",
       "  background-color: var(--sklearn-color-unfitted-level-0);\n",
       "}\n",
       "\n",
       "#sk-container-id-1 div.sk-toggleable__content.fitted {\n",
       "  /* fitted */\n",
       "  background-color: var(--sklearn-color-fitted-level-0);\n",
       "}\n",
       "\n",
       "#sk-container-id-1 div.sk-toggleable__content pre {\n",
       "  margin: 0.2em;\n",
       "  border-radius: 0.25em;\n",
       "  color: var(--sklearn-color-text);\n",
       "  /* unfitted */\n",
       "  background-color: var(--sklearn-color-unfitted-level-0);\n",
       "}\n",
       "\n",
       "#sk-container-id-1 div.sk-toggleable__content.fitted pre {\n",
       "  /* unfitted */\n",
       "  background-color: var(--sklearn-color-fitted-level-0);\n",
       "}\n",
       "\n",
       "#sk-container-id-1 input.sk-toggleable__control:checked~div.sk-toggleable__content {\n",
       "  /* Expand drop-down */\n",
       "  max-height: 200px;\n",
       "  max-width: 100%;\n",
       "  overflow: auto;\n",
       "}\n",
       "\n",
       "#sk-container-id-1 input.sk-toggleable__control:checked~label.sk-toggleable__label-arrow:before {\n",
       "  content: \"▾\";\n",
       "}\n",
       "\n",
       "/* Pipeline/ColumnTransformer-specific style */\n",
       "\n",
       "#sk-container-id-1 div.sk-label input.sk-toggleable__control:checked~label.sk-toggleable__label {\n",
       "  color: var(--sklearn-color-text);\n",
       "  background-color: var(--sklearn-color-unfitted-level-2);\n",
       "}\n",
       "\n",
       "#sk-container-id-1 div.sk-label.fitted input.sk-toggleable__control:checked~label.sk-toggleable__label {\n",
       "  background-color: var(--sklearn-color-fitted-level-2);\n",
       "}\n",
       "\n",
       "/* Estimator-specific style */\n",
       "\n",
       "/* Colorize estimator box */\n",
       "#sk-container-id-1 div.sk-estimator input.sk-toggleable__control:checked~label.sk-toggleable__label {\n",
       "  /* unfitted */\n",
       "  background-color: var(--sklearn-color-unfitted-level-2);\n",
       "}\n",
       "\n",
       "#sk-container-id-1 div.sk-estimator.fitted input.sk-toggleable__control:checked~label.sk-toggleable__label {\n",
       "  /* fitted */\n",
       "  background-color: var(--sklearn-color-fitted-level-2);\n",
       "}\n",
       "\n",
       "#sk-container-id-1 div.sk-label label.sk-toggleable__label,\n",
       "#sk-container-id-1 div.sk-label label {\n",
       "  /* The background is the default theme color */\n",
       "  color: var(--sklearn-color-text-on-default-background);\n",
       "}\n",
       "\n",
       "/* On hover, darken the color of the background */\n",
       "#sk-container-id-1 div.sk-label:hover label.sk-toggleable__label {\n",
       "  color: var(--sklearn-color-text);\n",
       "  background-color: var(--sklearn-color-unfitted-level-2);\n",
       "}\n",
       "\n",
       "/* Label box, darken color on hover, fitted */\n",
       "#sk-container-id-1 div.sk-label.fitted:hover label.sk-toggleable__label.fitted {\n",
       "  color: var(--sklearn-color-text);\n",
       "  background-color: var(--sklearn-color-fitted-level-2);\n",
       "}\n",
       "\n",
       "/* Estimator label */\n",
       "\n",
       "#sk-container-id-1 div.sk-label label {\n",
       "  font-family: monospace;\n",
       "  font-weight: bold;\n",
       "  display: inline-block;\n",
       "  line-height: 1.2em;\n",
       "}\n",
       "\n",
       "#sk-container-id-1 div.sk-label-container {\n",
       "  text-align: center;\n",
       "}\n",
       "\n",
       "/* Estimator-specific */\n",
       "#sk-container-id-1 div.sk-estimator {\n",
       "  font-family: monospace;\n",
       "  border: 1px dotted var(--sklearn-color-border-box);\n",
       "  border-radius: 0.25em;\n",
       "  box-sizing: border-box;\n",
       "  margin-bottom: 0.5em;\n",
       "  /* unfitted */\n",
       "  background-color: var(--sklearn-color-unfitted-level-0);\n",
       "}\n",
       "\n",
       "#sk-container-id-1 div.sk-estimator.fitted {\n",
       "  /* fitted */\n",
       "  background-color: var(--sklearn-color-fitted-level-0);\n",
       "}\n",
       "\n",
       "/* on hover */\n",
       "#sk-container-id-1 div.sk-estimator:hover {\n",
       "  /* unfitted */\n",
       "  background-color: var(--sklearn-color-unfitted-level-2);\n",
       "}\n",
       "\n",
       "#sk-container-id-1 div.sk-estimator.fitted:hover {\n",
       "  /* fitted */\n",
       "  background-color: var(--sklearn-color-fitted-level-2);\n",
       "}\n",
       "\n",
       "/* Specification for estimator info (e.g. \"i\" and \"?\") */\n",
       "\n",
       "/* Common style for \"i\" and \"?\" */\n",
       "\n",
       ".sk-estimator-doc-link,\n",
       "a:link.sk-estimator-doc-link,\n",
       "a:visited.sk-estimator-doc-link {\n",
       "  float: right;\n",
       "  font-size: smaller;\n",
       "  line-height: 1em;\n",
       "  font-family: monospace;\n",
       "  background-color: var(--sklearn-color-background);\n",
       "  border-radius: 1em;\n",
       "  height: 1em;\n",
       "  width: 1em;\n",
       "  text-decoration: none !important;\n",
       "  margin-left: 1ex;\n",
       "  /* unfitted */\n",
       "  border: var(--sklearn-color-unfitted-level-1) 1pt solid;\n",
       "  color: var(--sklearn-color-unfitted-level-1);\n",
       "}\n",
       "\n",
       ".sk-estimator-doc-link.fitted,\n",
       "a:link.sk-estimator-doc-link.fitted,\n",
       "a:visited.sk-estimator-doc-link.fitted {\n",
       "  /* fitted */\n",
       "  border: var(--sklearn-color-fitted-level-1) 1pt solid;\n",
       "  color: var(--sklearn-color-fitted-level-1);\n",
       "}\n",
       "\n",
       "/* On hover */\n",
       "div.sk-estimator:hover .sk-estimator-doc-link:hover,\n",
       ".sk-estimator-doc-link:hover,\n",
       "div.sk-label-container:hover .sk-estimator-doc-link:hover,\n",
       ".sk-estimator-doc-link:hover {\n",
       "  /* unfitted */\n",
       "  background-color: var(--sklearn-color-unfitted-level-3);\n",
       "  color: var(--sklearn-color-background);\n",
       "  text-decoration: none;\n",
       "}\n",
       "\n",
       "div.sk-estimator.fitted:hover .sk-estimator-doc-link.fitted:hover,\n",
       ".sk-estimator-doc-link.fitted:hover,\n",
       "div.sk-label-container:hover .sk-estimator-doc-link.fitted:hover,\n",
       ".sk-estimator-doc-link.fitted:hover {\n",
       "  /* fitted */\n",
       "  background-color: var(--sklearn-color-fitted-level-3);\n",
       "  color: var(--sklearn-color-background);\n",
       "  text-decoration: none;\n",
       "}\n",
       "\n",
       "/* Span, style for the box shown on hovering the info icon */\n",
       ".sk-estimator-doc-link span {\n",
       "  display: none;\n",
       "  z-index: 9999;\n",
       "  position: relative;\n",
       "  font-weight: normal;\n",
       "  right: .2ex;\n",
       "  padding: .5ex;\n",
       "  margin: .5ex;\n",
       "  width: min-content;\n",
       "  min-width: 20ex;\n",
       "  max-width: 50ex;\n",
       "  color: var(--sklearn-color-text);\n",
       "  box-shadow: 2pt 2pt 4pt #999;\n",
       "  /* unfitted */\n",
       "  background: var(--sklearn-color-unfitted-level-0);\n",
       "  border: .5pt solid var(--sklearn-color-unfitted-level-3);\n",
       "}\n",
       "\n",
       ".sk-estimator-doc-link.fitted span {\n",
       "  /* fitted */\n",
       "  background: var(--sklearn-color-fitted-level-0);\n",
       "  border: var(--sklearn-color-fitted-level-3);\n",
       "}\n",
       "\n",
       ".sk-estimator-doc-link:hover span {\n",
       "  display: block;\n",
       "}\n",
       "\n",
       "/* \"?\"-specific style due to the `<a>` HTML tag */\n",
       "\n",
       "#sk-container-id-1 a.estimator_doc_link {\n",
       "  float: right;\n",
       "  font-size: 1rem;\n",
       "  line-height: 1em;\n",
       "  font-family: monospace;\n",
       "  background-color: var(--sklearn-color-background);\n",
       "  border-radius: 1rem;\n",
       "  height: 1rem;\n",
       "  width: 1rem;\n",
       "  text-decoration: none;\n",
       "  /* unfitted */\n",
       "  color: var(--sklearn-color-unfitted-level-1);\n",
       "  border: var(--sklearn-color-unfitted-level-1) 1pt solid;\n",
       "}\n",
       "\n",
       "#sk-container-id-1 a.estimator_doc_link.fitted {\n",
       "  /* fitted */\n",
       "  border: var(--sklearn-color-fitted-level-1) 1pt solid;\n",
       "  color: var(--sklearn-color-fitted-level-1);\n",
       "}\n",
       "\n",
       "/* On hover */\n",
       "#sk-container-id-1 a.estimator_doc_link:hover {\n",
       "  /* unfitted */\n",
       "  background-color: var(--sklearn-color-unfitted-level-3);\n",
       "  color: var(--sklearn-color-background);\n",
       "  text-decoration: none;\n",
       "}\n",
       "\n",
       "#sk-container-id-1 a.estimator_doc_link.fitted:hover {\n",
       "  /* fitted */\n",
       "  background-color: var(--sklearn-color-fitted-level-3);\n",
       "}\n",
       "</style><div id=\"sk-container-id-1\" class=\"sk-top-container\"><div class=\"sk-text-repr-fallback\"><pre>RandomForestRegressor(n_estimators=200, random_state=42)</pre><b>In a Jupyter environment, please rerun this cell to show the HTML representation or trust the notebook. <br />On GitHub, the HTML representation is unable to render, please try loading this page with nbviewer.org.</b></div><div class=\"sk-container\" hidden><div class=\"sk-item\"><div class=\"sk-estimator fitted sk-toggleable\"><input class=\"sk-toggleable__control sk-hidden--visually\" id=\"sk-estimator-id-1\" type=\"checkbox\" checked><label for=\"sk-estimator-id-1\" class=\"sk-toggleable__label fitted sk-toggleable__label-arrow fitted\">&nbsp;&nbsp;RandomForestRegressor<a class=\"sk-estimator-doc-link fitted\" rel=\"noreferrer\" target=\"_blank\" href=\"https://scikit-learn.org/1.4/modules/generated/sklearn.ensemble.RandomForestRegressor.html\">?<span>Documentation for RandomForestRegressor</span></a><span class=\"sk-estimator-doc-link fitted\">i<span>Fitted</span></span></label><div class=\"sk-toggleable__content fitted\"><pre>RandomForestRegressor(n_estimators=200, random_state=42)</pre></div> </div></div></div></div>"
      ],
      "text/plain": [
       "RandomForestRegressor(n_estimators=200, random_state=42)"
      ]
     },
     "execution_count": 20,
     "metadata": {},
     "output_type": "execute_result"
    }
   ],
   "source": [
    "# Train the model using Random Forest\n",
    "rf = RandomForestRegressor(n_estimators=200, random_state=42)\n",
    "rf.fit(X_train, y_train)\n"
   ]
  },
  {
   "cell_type": "code",
   "execution_count": 21,
   "id": "8332092d-3dec-4dec-adbb-aaffa675e14a",
   "metadata": {
    "ExecuteTime": {
     "end_time": "2025-02-23T01:56:06.686252Z",
     "start_time": "2025-02-23T01:56:06.587895Z"
    }
   },
   "outputs": [],
   "source": [
    "# Predict on the train dataset\n",
    "y_pred = rf.predict(X_test)"
   ]
  },
  {
   "cell_type": "code",
   "execution_count": 22,
   "id": "0ee187ea-464c-4ed0-a1fc-1b29ed7a5186",
   "metadata": {
    "ExecuteTime": {
     "end_time": "2025-02-23T01:56:06.807925Z",
     "start_time": "2025-02-23T01:56:06.786816Z"
    }
   },
   "outputs": [],
   "source": [
    "# Evaluate the model by calculating the Mean Absolute Error (MAE) on train data\n",
    "mae = mean_absolute_error(y_test, y_pred)\n",
    "mse = mean_squared_error(y_test, y_pred)\n",
    "r2 = r2_score(y_test, y_pred)"
   ]
  },
  {
   "cell_type": "code",
   "execution_count": 23,
   "id": "ef57ed68-2a74-4b1f-b412-30332aae7453",
   "metadata": {
    "ExecuteTime": {
     "end_time": "2025-02-23T01:56:06.942915Z",
     "start_time": "2025-02-23T01:56:06.921645Z"
    }
   },
   "outputs": [
    {
     "name": "stdout",
     "output_type": "stream",
     "text": [
      "Mean Absolute Error : 1886.474466637719\n",
      "Mean Squared Error : 8685927.595412927\n",
      "R^2 Score : 0.7538473998399393\n"
     ]
    }
   ],
   "source": [
    "# Print accuracy metrics on the training data\n",
    "print(f\"Mean Absolute Error : {mae}\")\n",
    "print(f\"Mean Squared Error : {mse}\")\n",
    "print(f\"R^2 Score : {r2}\")\n"
   ]
  },
  {
   "cell_type": "code",
   "execution_count": 24,
   "id": "c251e244-4abf-41d1-bb74-ecbe3cbbbbfe",
   "metadata": {
    "ExecuteTime": {
     "end_time": "2025-02-23T01:56:07.187699Z",
     "start_time": "2025-02-23T01:56:07.088889Z"
    }
   },
   "outputs": [
    {
     "data": {
      "text/plain": [
       "['C:/car_price/model/random_forest_model.pkl']"
      ]
     },
     "execution_count": 24,
     "metadata": {},
     "output_type": "execute_result"
    }
   ],
   "source": [
    "# Save the trained model to the specified path\n",
    "model_path = \"C:/car_price/model/random_forest_model.pkl\"\n",
    "joblib.dump(rf, model_path)\n"
   ]
  },
  {
   "cell_type": "code",
   "execution_count": 25,
   "id": "82467bf6-baf0-4669-b3a1-21498bf581aa",
   "metadata": {
    "ExecuteTime": {
     "end_time": "2025-02-23T01:56:07.195306700Z",
     "start_time": "2025-02-23T01:51:06.037094Z"
    }
   },
   "outputs": [],
   "source": [
    "# Make predictions on the test dataset\n",
    "test_predictions = rf.predict(test_df)"
   ]
  },
  {
   "cell_type": "code",
   "execution_count": 26,
   "id": "eb85c0df-76c7-47cf-b605-f4befa2eeec7",
   "metadata": {
    "ExecuteTime": {
     "end_time": "2025-02-23T01:56:07.225190700Z",
     "start_time": "2025-02-23T01:51:08.036268Z"
    }
   },
   "outputs": [
    {
     "name": "stdout",
     "output_type": "stream",
     "text": [
      "Model training complete, model saved, and submission file saved successfully!\n"
     ]
    }
   ],
   "source": [
    "# Save the predictions to a CSV file for Kaggle submission\n",
    "submission = pd.DataFrame({\n",
    "    'Id': test_df.index,\n",
    "    'price': test_predictions.round(0).astype(int)\n",
    "})\n",
    "\n",
    "submission.to_csv(\"C:/car_price/dataset/submission.csv\", index=False)\n",
    "\n",
    "print(\"Model training complete, model saved, and submission file saved successfully!\")"
   ]
  },
  {
   "cell_type": "code",
   "execution_count": 38,
   "id": "df92a93c-fbc7-4bfc-b5f1-fbcef52f34fa",
   "metadata": {},
   "outputs": [
    {
     "data": {
      "image/png": "[encoded data removed]",
      "text/plain": [
       "<Figure size 640x480 with 1 Axes>"
      ]
     },
     "metadata": {},
     "output_type": "display_data"
    }
   ],
   "source": [
    "# Assuming the model is already trained and 'train_df' is your dataset\n",
    "\n",
    "# Extract feature importances\n",
    "feature_importances = model.feature_importances_\n",
    "\n",
    "# Create a DataFrame for visualization (excluding 'price' column)\n",
    "feature_scores = pd.DataFrame({\n",
    "    'Feature': train_df.drop(columns=['price']).columns,  # Exclude target 'price'\n",
    "    'Importance': feature_importances\n",
    "})\n",
    "\n",
    "# Sort the values based on importance\n",
    "feature_scores = feature_scores.sort_values(by='Importance', ascending=False)\n",
    "\n",
    "# Create seaborn bar plot\n",
    "sns.barplot(x='Importance', y='Feature', data=feature_scores)\n",
    "\n",
    "# Add labels to the graph\n",
    "plt.xlabel('Feature Importance Score')\n",
    "plt.ylabel('Features')\n",
    "\n",
    "# Add title to the graph\n",
    "plt.title('Visualizing Important Features')\n",
    "\n",
    "# Visualize the graph\n",
    "plt.show()"
   ]
  },
  {
   "cell_type": "code",
   "execution_count": null,
   "id": "fa10001e-3ec2-4b26-96ba-187c5babc8cb",
   "metadata": {},
   "outputs": [],
   "source": []
  }
 ],
 "metadata": {
  "kernelspec": {
   "display_name": "Python 3 (ipykernel)",
   "language": "python",
   "name": "python3"
  },
  "language_info": {
   "codemirror_mode": {
    "name": "ipython",
    "version": 3
   },
   "file_extension": ".py",
   "mimetype": "text/x-python",
   "name": "python",
   "nbconvert_exporter": "python",
   "pygments_lexer": "ipython3",
   "version": "3.12.4"
  }
 },
 "nbformat": 4,
 "nbformat_minor": 5
}
